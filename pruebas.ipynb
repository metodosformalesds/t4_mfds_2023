{
 "cells": [
  {
   "cell_type": "code",
   "execution_count": 1,
   "metadata": {},
   "outputs": [],
   "source": [
    "import boto3\n",
    "import utils.actions as actions\n",
    "import utils.Cognito as Cognito"
   ]
  },
  {
   "cell_type": "code",
   "execution_count": 2,
   "metadata": {},
   "outputs": [],
   "source": [
    "client = boto3.client('cognito-idp')\n",
    "cognito = Cognito.AdminCognito(client)"
   ]
  },
  {
   "cell_type": "code",
   "execution_count": 5,
   "metadata": {},
   "outputs": [
    {
     "data": {
      "text/plain": [
       "{'status': 'Usuario eliminado'}"
      ]
     },
     "execution_count": 5,
     "metadata": {},
     "output_type": "execute_result"
    }
   ],
   "source": [
    "cognito.delete_user('ArmandoBit1536')"
   ]
  },
  {
   "cell_type": "code",
   "execution_count": 6,
   "metadata": {},
   "outputs": [
    {
     "data": {
      "text/plain": [
       "{'status': 'Usuario creado'}"
      ]
     },
     "execution_count": 6,
     "metadata": {},
     "output_type": "execute_result"
    }
   ],
   "source": [
    "cognito.create_user('ArmandoBit1536', 'refill.1509@gmail.com', 'Rosas1536-1')"
   ]
  },
  {
   "cell_type": "code",
   "execution_count": 8,
   "metadata": {},
   "outputs": [],
   "source": [
    "USER_POOL_ID = 'us-east-1_PPuagupzi'"
   ]
  },
  {
   "cell_type": "code",
   "execution_count": 3,
   "metadata": {},
   "outputs": [
    {
     "ename": "InvalidParameterException",
     "evalue": "An error occurred (InvalidParameterException) when calling the InitiateAuth operation: 2 validation errors detected: Value 'us-east-1_PPuagupzi' at 'clientId' failed to satisfy constraint: Member must satisfy regular expression pattern: [\\w+]+; Value 'https://uacj-pay.auth.us-east-1.amazoncognito.com' at 'authFlow' failed to satisfy constraint: Member must satisfy enum value set: [ADMIN_NO_SRP_AUTH, ADMIN_USER_PASSWORD_AUTH, USER_SRP_AUTH, REFRESH_TOKEN_AUTH, REFRESH_TOKEN, CUSTOM_AUTH, USER_PASSWORD_AUTH]",
     "output_type": "error",
     "traceback": [
      "\u001b[0;31m---------------------------------------------------------------------------\u001b[0m",
      "\u001b[0;31mInvalidParameterException\u001b[0m                 Traceback (most recent call last)",
      "\u001b[1;32m/home/armando/t4_mfds_2023/pruebas.ipynb Cell 6\u001b[0m line \u001b[0;36m1\n\u001b[0;32m----> <a href='vscode-notebook-cell://wsl%2Bubuntu/home/armando/t4_mfds_2023/pruebas.ipynb#X13sdnNjb2RlLXJlbW90ZQ%3D%3D?line=0'>1</a>\u001b[0m cognito\u001b[39m.\u001b[39;49mget_user_tokens(\u001b[39m'\u001b[39;49m\u001b[39mArmandoBit1536\u001b[39;49m\u001b[39m'\u001b[39;49m, \u001b[39m'\u001b[39;49m\u001b[39mRosas1536-1\u001b[39;49m\u001b[39m'\u001b[39;49m)\n",
      "File \u001b[0;32m~/t4_mfds_2023/utils/Cognito.py:67\u001b[0m, in \u001b[0;36mAdminCognito.get_user_tokens\u001b[0;34m(self, username, password)\u001b[0m\n\u001b[1;32m     65\u001b[0m \u001b[39mdef\u001b[39;00m \u001b[39mget_user_tokens\u001b[39m(\u001b[39mself\u001b[39m, username, password):\n\u001b[1;32m     66\u001b[0m     \u001b[39mtry\u001b[39;00m:\n\u001b[0;32m---> 67\u001b[0m         response \u001b[39m=\u001b[39m \u001b[39mself\u001b[39;49m\u001b[39m.\u001b[39;49mclient\u001b[39m.\u001b[39;49minitiate_auth(\n\u001b[1;32m     68\u001b[0m             AuthFlow\u001b[39m=\u001b[39;49m\u001b[39m'\u001b[39;49m\u001b[39mhttps://uacj-pay.auth.us-east-1.amazoncognito.com\u001b[39;49m\u001b[39m'\u001b[39;49m,\n\u001b[1;32m     69\u001b[0m             AuthParameters\u001b[39m=\u001b[39;49m{\n\u001b[1;32m     70\u001b[0m                 \u001b[39m'\u001b[39;49m\u001b[39mUSERNAME\u001b[39;49m\u001b[39m'\u001b[39;49m: username,\n\u001b[1;32m     71\u001b[0m                 \u001b[39m'\u001b[39;49m\u001b[39mPASSWORD\u001b[39;49m\u001b[39m'\u001b[39;49m: password,\n\u001b[1;32m     72\u001b[0m             },\n\u001b[1;32m     73\u001b[0m             ClientId\u001b[39m=\u001b[39;49m\u001b[39mself\u001b[39;49m\u001b[39m.\u001b[39;49m__user_pool_id,\n\u001b[1;32m     74\u001b[0m         )\n\u001b[1;32m     75\u001b[0m     \u001b[39mexcept\u001b[39;00m \u001b[39mself\u001b[39m\u001b[39m.\u001b[39mclient\u001b[39m.\u001b[39mexceptions\u001b[39m.\u001b[39mNotAuthorizedException:\n\u001b[1;32m     76\u001b[0m         \u001b[39mreturn\u001b[39;00m \u001b[39mNone\u001b[39;00m\n",
      "File \u001b[0;32m~/t4_mfds_2023/venv/lib/python3.10/site-packages/botocore/client.py:535\u001b[0m, in \u001b[0;36mClientCreator._create_api_method.<locals>._api_call\u001b[0;34m(self, *args, **kwargs)\u001b[0m\n\u001b[1;32m    531\u001b[0m     \u001b[39mraise\u001b[39;00m \u001b[39mTypeError\u001b[39;00m(\n\u001b[1;32m    532\u001b[0m         \u001b[39mf\u001b[39m\u001b[39m\"\u001b[39m\u001b[39m{\u001b[39;00mpy_operation_name\u001b[39m}\u001b[39;00m\u001b[39m() only accepts keyword arguments.\u001b[39m\u001b[39m\"\u001b[39m\n\u001b[1;32m    533\u001b[0m     )\n\u001b[1;32m    534\u001b[0m \u001b[39m# The \"self\" in this scope is referring to the BaseClient.\u001b[39;00m\n\u001b[0;32m--> 535\u001b[0m \u001b[39mreturn\u001b[39;00m \u001b[39mself\u001b[39;49m\u001b[39m.\u001b[39;49m_make_api_call(operation_name, kwargs)\n",
      "File \u001b[0;32m~/t4_mfds_2023/venv/lib/python3.10/site-packages/botocore/client.py:980\u001b[0m, in \u001b[0;36mBaseClient._make_api_call\u001b[0;34m(self, operation_name, api_params)\u001b[0m\n\u001b[1;32m    978\u001b[0m     error_code \u001b[39m=\u001b[39m parsed_response\u001b[39m.\u001b[39mget(\u001b[39m\"\u001b[39m\u001b[39mError\u001b[39m\u001b[39m\"\u001b[39m, {})\u001b[39m.\u001b[39mget(\u001b[39m\"\u001b[39m\u001b[39mCode\u001b[39m\u001b[39m\"\u001b[39m)\n\u001b[1;32m    979\u001b[0m     error_class \u001b[39m=\u001b[39m \u001b[39mself\u001b[39m\u001b[39m.\u001b[39mexceptions\u001b[39m.\u001b[39mfrom_code(error_code)\n\u001b[0;32m--> 980\u001b[0m     \u001b[39mraise\u001b[39;00m error_class(parsed_response, operation_name)\n\u001b[1;32m    981\u001b[0m \u001b[39melse\u001b[39;00m:\n\u001b[1;32m    982\u001b[0m     \u001b[39mreturn\u001b[39;00m parsed_response\n",
      "\u001b[0;31mInvalidParameterException\u001b[0m: An error occurred (InvalidParameterException) when calling the InitiateAuth operation: 2 validation errors detected: Value 'us-east-1_PPuagupzi' at 'clientId' failed to satisfy constraint: Member must satisfy regular expression pattern: [\\w+]+; Value 'https://uacj-pay.auth.us-east-1.amazoncognito.com' at 'authFlow' failed to satisfy constraint: Member must satisfy enum value set: [ADMIN_NO_SRP_AUTH, ADMIN_USER_PASSWORD_AUTH, USER_SRP_AUTH, REFRESH_TOKEN_AUTH, REFRESH_TOKEN, CUSTOM_AUTH, USER_PASSWORD_AUTH]"
     ]
    }
   ],
   "source": [
    "cognito.get_user_tokens('ArmandoBit1536', 'Rosas1536-1')\n"
   ]
  }
 ],
 "metadata": {
  "kernelspec": {
   "display_name": "venv",
   "language": "python",
   "name": "python3"
  },
  "language_info": {
   "codemirror_mode": {
    "name": "ipython",
    "version": 3
   },
   "file_extension": ".py",
   "mimetype": "text/x-python",
   "name": "python",
   "nbconvert_exporter": "python",
   "pygments_lexer": "ipython3",
   "version": "3.10.12"
  }
 },
 "nbformat": 4,
 "nbformat_minor": 2
}
