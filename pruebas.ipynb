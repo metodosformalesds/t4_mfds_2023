{
 "cells": [
  {
   "cell_type": "code",
   "execution_count": 1,
   "metadata": {},
   "outputs": [],
   "source": [
    "import boto3\n",
    "import utils.Cuenta.Admin as cuentas\n",
    "\n",
    "client = boto3.client('dynamodb')\n",
    "cuenta = cuentas.Admin(client)"
   ]
  },
  {
   "cell_type": "code",
   "execution_count": 4,
   "metadata": {},
   "outputs": [
    {
     "data": {
      "text/plain": [
       "{'error': 'An error occurred (ValidationException) when calling the PutItem operation: One or more parameter values were invalid: Missing the key token in the item'}"
      ]
     },
     "execution_count": 4,
     "metadata": {},
     "output_type": "execute_result"
    }
   ],
   "source": [
    "cuenta.create_admin('Soriana pero mas caro', 'soriano')\n"
   ]
  },
  {
   "cell_type": "code",
   "execution_count": 3,
   "metadata": {},
   "outputs": [
    {
     "data": {
      "text/plain": [
       "{'error': 'An error occurred (ValidationException) when calling the PutItem operation: One or more parameter values were invalid: Missing the key token in the item'}"
      ]
     },
     "execution_count": 3,
     "metadata": {},
     "output_type": "execute_result"
    }
   ],
   "source": [
    "cuenta.create_admin('test', 'test')"
   ]
  },
  {
   "cell_type": "code",
   "execution_count": 29,
   "metadata": {},
   "outputs": [],
   "source": [
    "import bcrypt\n",
    "\n",
    "# La contraseña que quieres encriptar\n",
    "password = \"my_password\"\n",
    "\n",
    "# Genera una sal\n",
    "salt = bcrypt.gensalt()\n",
    "\n",
    "# Encripta la contraseña\n",
    "hashed_password = bcrypt.hashpw(password.encode('utf-8'), salt)"
   ]
  },
  {
   "cell_type": "code",
   "execution_count": 3,
   "metadata": {},
   "outputs": [],
   "source": [
    "import bcrypt\n",
    "\n",
    "# La contraseña que quieres encriptar\n",
    "password = \"my_password\"\n",
    "\n",
    "# Genera una sal\n",
    "salt = bcrypt.gensalt()\n",
    "\n",
    "# Encripta la contraseña\n",
    "hashed_password = bcrypt.hashpw(password.encode('utf-8'), salt)"
   ]
  },
  {
   "cell_type": "code",
   "execution_count": 39,
   "metadata": {},
   "outputs": [
    {
     "data": {
      "text/plain": [
       "b'$2b$12$AzyRAwZowD3av/atgqiViuTkiVLxwHq1kAGy6/i54pFCiMa4QolRW'"
      ]
     },
     "execution_count": 39,
     "metadata": {},
     "output_type": "execute_result"
    }
   ],
   "source": [
    "hashed_password"
   ]
  },
  {
   "cell_type": "code",
   "execution_count": 14,
   "metadata": {},
   "outputs": [
    {
     "name": "stdout",
     "output_type": "stream",
     "text": [
      "True\n"
     ]
    }
   ],
   "source": [
    "# Supongamos que 'entered_password' es la contraseña ingresada por el usuario\n",
    "entered_password = \"my_password\"\n",
    "\n",
    "# 'hashed_password' es la contraseña encriptada almacenada en la base de datos\n",
    "stored_password = b'$2b$12$AzyRAwZowD3av/atgqiViuTkiVLxwHq1kAGy6/i54pFCiMa4QolRW'\n",
    "\n",
    "# Verifica la contraseña\n",
    "is_valid = bcrypt.checkpw(entered_password.encode('utf-8'), stored_password)\n",
    "\n",
    "print(is_valid)  # Imprime True si la contraseña es correcta, False en caso contrario"
   ]
  }
 ],
 "metadata": {
  "kernelspec": {
   "display_name": "venv",
   "language": "python",
   "name": "python3"
  },
  "language_info": {
   "codemirror_mode": {
    "name": "ipython",
    "version": 3
   },
   "file_extension": ".py",
   "mimetype": "text/x-python",
   "name": "python",
   "nbconvert_exporter": "python",
   "pygments_lexer": "ipython3",
   "version": "3.10.12"
  }
 },
 "nbformat": 4,
 "nbformat_minor": 2
}
