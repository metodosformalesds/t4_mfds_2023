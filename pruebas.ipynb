{
 "cells": [
  {
   "cell_type": "code",
   "execution_count": 81,
   "metadata": {},
   "outputs": [],
   "source": [
    "from utils.Cuenta.Cuenta_cliente import Cuenta_Cliente\n",
    "from utils.Cuenta.Cuenta_negocio import Cuenta_Negocio"
   ]
  },
  {
   "cell_type": "code",
   "execution_count": 82,
   "metadata": {},
   "outputs": [],
   "source": [
    "# request = Cuenta_Negocio('Coopel','tets')"
   ]
  },
  {
   "cell_type": "code",
   "execution_count": 83,
   "metadata": {},
   "outputs": [],
   "source": [
    "propietario = \"Jose Armando Rosales Macias\""
   ]
  },
  {
   "cell_type": "code",
   "execution_count": 84,
   "metadata": {},
   "outputs": [],
   "source": [
    "cuenta = Cuenta_Cliente(propietario, '6516516516565')"
   ]
  },
  {
   "cell_type": "code",
   "execution_count": 85,
   "metadata": {},
   "outputs": [
    {
     "data": {
      "text/plain": [
       "{'CLABE': '6461801465241654',\n",
       " 'num_tarjeta': '515840356325104',\n",
       " 'CSV': '981',\n",
       " 'fecha_vencimiento': '11/2028',\n",
       " 'created': '11/2023',\n",
       " 'propietario': ['Jose', 'Armando', 'Rosales', 'Macias'],\n",
       " 'pais': 'MEXICO',\n",
       " 'CLABE_negocio': '6516516516565'}"
      ]
     },
     "execution_count": 85,
     "metadata": {},
     "output_type": "execute_result"
    }
   ],
   "source": [
    "cuenta.get_variable_names()"
   ]
  }
 ],
 "metadata": {
  "kernelspec": {
   "display_name": "venv",
   "language": "python",
   "name": "python3"
  },
  "language_info": {
   "codemirror_mode": {
    "name": "ipython",
    "version": 3
   },
   "file_extension": ".py",
   "mimetype": "text/x-python",
   "name": "python",
   "nbconvert_exporter": "python",
   "pygments_lexer": "ipython3",
   "version": "3.10.12"
  }
 },
 "nbformat": 4,
 "nbformat_minor": 2
}
